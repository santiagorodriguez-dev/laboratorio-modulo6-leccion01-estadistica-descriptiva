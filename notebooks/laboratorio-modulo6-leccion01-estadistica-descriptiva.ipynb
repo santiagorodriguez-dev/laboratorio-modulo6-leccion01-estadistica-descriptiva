{
 "cells": [
  {
   "cell_type": "markdown",
   "metadata": {},
   "source": [
    "<div style=\"text-align: center;\">\n",
    "  <img src=\"https://github.com/Hack-io-Data/Imagenes/blob/main/01-LogosHackio/logo_naranja@4x.png?raw=true\" alt=\"esquema\" />\n",
    "</div>\n",
    "\n",
    "\n",
    "# Laboratorio Estadistica Descriptiva\n",
    "\n",
    "⚠️ Siempre que puedas usa graficas para apoyar tu interpretacion\n"
   ]
  },
  {
   "cell_type": "code",
   "execution_count": 1,
   "metadata": {},
   "outputs": [],
   "source": [
    "# importamos las librerías que necesitamos\n",
    "\n",
    "# Tratamiento de datos\n",
    "# -----------------------------------------------------------------------\n",
    "import numpy as np   # type: ignore\n",
    "import pandas as pd  # type: ignore\n",
    "\n",
    "\n",
    "# Visualización\n",
    "# ------------------------------------------------------------------------------\n",
    "import matplotlib.pyplot as plt # type: ignore\n",
    "import seaborn as sns # type: ignore\n",
    "\n",
    "\n",
    "# librerias para estadisticas \n",
    "# ------------------------------------------------------------------------------\n",
    "\n",
    "import statistics as st \n",
    "from scipy import stats   # type: ignore\n",
    "from scipy.stats import skew,kurtosis # type: ignore # libreria para asimetria y curtosis \n"
   ]
  },
  {
   "cell_type": "markdown",
   "metadata": {},
   "source": [
    "#### Ejercicio 1: \n",
    "\n",
    "1.  Dados los siguientes datos: [15, 21, 25, 32, 35, 45, 50, 50, 55, 60]. Crea una funcion que calcule la media, mediana y moda.\n"
   ]
  },
  {
   "cell_type": "code",
   "execution_count": 2,
   "metadata": {},
   "outputs": [
    {
     "name": "stdout",
     "output_type": "stream",
     "text": [
      "La media es: 38.8\n",
      "La mediana es: 40.0\n",
      "La moda es: 50\n"
     ]
    }
   ],
   "source": [
    "datos_1 = [15, 21, 25, 32, 35, 45, 50, 50, 55, 60]\n",
    "\n",
    "def calculo_01(datos):\n",
    "\n",
    "    df_datos = pd.DataFrame(datos)\n",
    "    media = df_datos[0].mean()\n",
    "    mediana = df_datos[0].median()\n",
    "    moda = df_datos[0].mode()\n",
    "\n",
    "    print(f\"La media es: {np.round(media, 2)}\")\n",
    "    print(f\"La mediana es: {np.round(mediana, 2)}\")\n",
    "    print(f\"La moda es: {moda[0]}\")\n",
    "\n",
    "calculo_01(datos_1)"
   ]
  },
  {
   "cell_type": "markdown",
   "metadata": {},
   "source": [
    "2.\tInterpretación de la media: ¿Qué sucede si un valor extremo, como 100, se agrega al conjunto de datos anterior? ¿Cómo cambia la media? Explica por qué sucede esto."
   ]
  },
  {
   "cell_type": "code",
   "execution_count": 3,
   "metadata": {},
   "outputs": [
    {
     "name": "stdout",
     "output_type": "stream",
     "text": [
      "La media es: 44.36\n",
      "La mediana es: 45.0\n",
      "La moda es: 50\n"
     ]
    }
   ],
   "source": [
    "datos_2 = [15, 21, 25, 32, 35, 45, 50, 50, 55, 60, 100]\n",
    "calculo_01(datos_2)\n",
    "\n",
    "# La media ha subido ya que al añadir un valor extremo como 100, la media se dispara ya que es el calulo de la suma de todos\n",
    "# los elementos divido por el numero de elementos."
   ]
  },
  {
   "cell_type": "markdown",
   "metadata": {},
   "source": [
    "\n",
    "#### Ejercicio 2: \n",
    "1. **Cálculo de la varianza y desviación estándar**: Usando los mismos datos de arriba, calcula la **varianza** y la **desviación estándar**.\n",
    "\n",
    "\n"
   ]
  },
  {
   "cell_type": "code",
   "execution_count": 15,
   "metadata": {},
   "outputs": [
    {
     "name": "stdout",
     "output_type": "stream",
     "text": [
      "La varianza es: 237.29\n",
      "La desviacion es: 15.4\n"
     ]
    }
   ],
   "source": [
    "datos_3 = [15, 21, 25, 32, 35, 45, 50, 50, 55, 60]\n",
    "\n",
    "def calculo_02(datos_3):\n",
    "\n",
    "    df_datos = pd.DataFrame(datos_3)\n",
    "    varianza = df_datos[0].var()\n",
    "    desviacion = df_datos[0].std()\n",
    "    print(f\"La varianza es: {np.round(varianza, 2)}\")\n",
    "    print(f\"La desviacion es: {np.round(desviacion, 2)}\")\n",
    "\n",
    "calculo_02(datos_3)"
   ]
  },
  {
   "cell_type": "markdown",
   "metadata": {},
   "source": [
    "2. **Comparación de dispersión**: Dado otro conjunto de datos: `[18, 19, 20, 22, 24, 25, 27, 30]`, compara la **dispersión** de este grupo con el conjunto de datos anterior (del Ejercicio 1) calculando la **desviación estándar** de ambos. ¿Qué conjunto tiene mayor dispersión?"
   ]
  },
  {
   "cell_type": "code",
   "execution_count": null,
   "metadata": {},
   "outputs": [
    {
     "name": "stdout",
     "output_type": "stream",
     "text": [
      "La varianza es: 17.27\n",
      "La desviacion es: 4.16\n",
      "La varianza es: 237.29\n",
      "La desviacion es: 15.4\n"
     ]
    }
   ],
   "source": [
    "datos_2_1 = [18, 19, 20, 22, 24, 25, 27, 30]\n",
    "datos_2_2 = [15, 21, 25, 32, 35, 45, 50, 50, 55, 60]\n",
    "calculo_02(datos_2_1)\n",
    "calculo_02(datos_2_2)\n",
    "\n",
    "# El conjunto de datos datos_2_2 tiene mayor dispersion, ya que la desviacion es mayor."
   ]
  },
  {
   "cell_type": "markdown",
   "metadata": {},
   "source": [
    "#### Ejercicio 3:\n",
    "\n",
    "1. Usa la función correspondiente en Python para calcular la **asimetría** del conjunto de datos: `[10, 20, 20, 20, 25, 30, 35, 40]`. \n"
   ]
  },
  {
   "cell_type": "code",
   "execution_count": 23,
   "metadata": {},
   "outputs": [
    {
     "name": "stdout",
     "output_type": "stream",
     "text": [
      "La asimetria es: 0.16\n"
     ]
    },
    {
     "data": {
      "text/plain": [
       "<Axes: xlabel='0', ylabel='Density'>"
      ]
     },
     "execution_count": 23,
     "metadata": {},
     "output_type": "execute_result"
    },
    {
     "data": {
      "image/png": "[encoded data removed]",
      "text/plain": [
       "<Figure size 640x480 with 1 Axes>"
      ]
     },
     "metadata": {},
     "output_type": "display_data"
    }
   ],
   "source": [
    "datos_3 = [10, 20, 20, 20, 25, 30, 35, 40]\n",
    "df_datos_3 = pd.DataFrame(datos_3)\n",
    "print(f\"La asimetria es: {np.round(df_datos_3[0].skew(), 2)}\")\n",
    "sns.kdeplot(df_datos_3[0], \n",
    "            fill=True, \n",
    "            color = \"orange\")"
   ]
  },
  {
   "cell_type": "markdown",
   "metadata": {},
   "source": [
    "2. Interpreta el resultado: ¿El conjunto es simétrico, sesgado a la izquierda o a la derecha?"
   ]
  },
  {
   "cell_type": "code",
   "execution_count": null,
   "metadata": {},
   "outputs": [],
   "source": [
    "# El conjunto de datos es simetrico, ya que el valor es cercano a 0, ademas de la representacion grafica se ve claramente."
   ]
  },
  {
   "cell_type": "markdown",
   "metadata": {},
   "source": [
    "#### Ejercicio 4: \n",
    "\n",
    "1. Calcula la **curtosis** para el conjunto de datos: `[5, 5, 5, 20, 25, 30, 30, 50]`. "
   ]
  },
  {
   "cell_type": "code",
   "execution_count": 8,
   "metadata": {},
   "outputs": [],
   "source": [
    "# tu codigo aqui"
   ]
  },
  {
   "cell_type": "markdown",
   "metadata": {},
   "source": [
    "2. ¿El conjunto tiene una curtosis positiva, negativa o es mesocúrtico? Explica qué implica esto sobre la forma de la distribución."
   ]
  },
  {
   "cell_type": "code",
   "execution_count": 9,
   "metadata": {},
   "outputs": [],
   "source": [
    "# tu codigo aqui"
   ]
  },
  {
   "cell_type": "markdown",
   "metadata": {},
   "source": [
    "#### Ejercicio 5: Caso practico. \n",
    "\n",
    "\n",
    "Imagina que una empresa está evaluando el rendimiento de sus empleados para entender la relación entre el tiempo que dedican a su trabajo y el éxito que tienen en términos de ventas. La empresa recopila datos durante un mes, midiendo cuántas **horas trabajó** cada empleado y cuántas **ventas realizaron**. Estos datosa se encuentran en el archivo `rendimiento.csv`\n",
    "\n",
    "**Horas trabajadas**: \n",
    "   - Se midieron las horas trabajadas por un grupo de empleados. En general, la mayoría de los empleados trabajan entre 40 y 60 horas a la semana, con algunos empleados trabajando un poco menos o más.\n",
    "\n",
    "\n",
    "**Ventas realizadas**:\n",
    "   - A cada empleado también se le hizo un seguimiento de cuántas ventas realizó. Aunque las ventas están influenciadas por las horas trabajadas, hay cierta **variabilidad**: algunos empleados pueden ser más productivos y vender más en menos tiempo, mientras que otros necesitan trabajar más para alcanzar los mismos resultados.\n",
    "\n",
    "\n",
    "Resuelve los siguientes puntos:\n",
    "\n",
    "\n",
    "\n",
    "1. **Cálculo de la media, mediana y moda**:\n",
    "   - Calcula la **media**, **mediana** y **moda** de las columnas **Horas Trabajadas** y **Ventas Realizadas**.\n",
    "   - Explica qué información proporciona cada medida en este contexto. Justifica tus conclusiones con representación de graficas. \n"
   ]
  },
  {
   "cell_type": "code",
   "execution_count": 10,
   "metadata": {},
   "outputs": [],
   "source": [
    "# tu codigo aqui"
   ]
  },
  {
   "cell_type": "markdown",
   "metadata": {},
   "source": [
    "\n",
    "2. **Comparación de medidas de centralización**:\n",
    "   - ¿Cómo se diferencian la media y la mediana para los datos de **Ventas Realizadas**? ¿Qué indica esta diferencia sobre la distribución de las ventas?\n"
   ]
  },
  {
   "cell_type": "code",
   "execution_count": 11,
   "metadata": {},
   "outputs": [],
   "source": [
    "# tu codigo aqui"
   ]
  },
  {
   "cell_type": "markdown",
   "metadata": {},
   "source": [
    "3. **Cálculo de la varianza y desviación estándar**:\n",
    "   - Calcula la **varianza** y la **desviación estándar** para las columnas **Horas Trabajadas** y **Ventas Realizadas**.\n",
    "   - ¿Qué conjunto de datos es más disperso? Explica el significado de la dispersión en este caso. Justifica tus conclusiones con representación de graficas. \n"
   ]
  },
  {
   "cell_type": "code",
   "execution_count": 12,
   "metadata": {},
   "outputs": [],
   "source": [
    "# tu codigo aqui"
   ]
  },
  {
   "cell_type": "markdown",
   "metadata": {},
   "source": [
    "4. **Rango y rango intercuartílico**:\n",
    "   - Calcula el **rango** y el **rango intercuartílico** para ambas columnas. \n",
    "   - ¿Qué te dice esto sobre la variabilidad de los datos? Justifica tus conclusiones con representación de graficas. "
   ]
  },
  {
   "cell_type": "code",
   "execution_count": 13,
   "metadata": {},
   "outputs": [],
   "source": [
    "# tu codigo aqui"
   ]
  },
  {
   "cell_type": "markdown",
   "metadata": {},
   "source": [
    "5. **Cálculo de la asimetría**:\n",
    "   - Usa la función adecuada en Python para calcular la **asimetría** de los datos de **Horas Trabajadas** y **Ventas Realizadas**. \n",
    "   - Interpreta si el conjunto de datos es **simétrico**, **sesgado a la izquierda** o **sesgado a la derecha**."
   ]
  },
  {
   "cell_type": "code",
   "execution_count": 14,
   "metadata": {},
   "outputs": [],
   "source": [
    "# tu codigo aqui"
   ]
  },
  {
   "cell_type": "markdown",
   "metadata": {},
   "source": [
    "6. **Cálculo de la curtosis**:\n",
    "   - Calcula la **curtosis** para ambos conjuntos de datos. ¿Los conjuntos tienen una curtosis positiva, negativa o son mesocúrticos? \n",
    "   - Explica qué implica esto sobre la forma de la distribución."
   ]
  },
  {
   "cell_type": "code",
   "execution_count": null,
   "metadata": {},
   "outputs": [],
   "source": []
  },
  {
   "cell_type": "markdown",
   "metadata": {},
   "source": [
    "7. **Gráfico de dispersión**:\n",
    "   - Crea un **gráfico de dispersión** entre **Horas Trabajadas** y **Ventas Realizadas**. \n",
    "   - ¿Hay alguna correlación entre ambas variables? Explica cómo interpretar la relación entre las dos variables."
   ]
  },
  {
   "cell_type": "code",
   "execution_count": null,
   "metadata": {},
   "outputs": [],
   "source": []
  },
  {
   "cell_type": "markdown",
   "metadata": {},
   "source": [
    "8. **Análisis exploratorio completo**:\n",
    "   - Realiza un análisis exploratorio detallado de los datos, incluyendo todas las medidas calculadas en los ejercicios anteriores. Presenta los resultados en forma de un informe claro y visual con gráficos y tablas que resuman las características clave de los datos.\n",
    "\n",
    "\n"
   ]
  },
  {
   "cell_type": "markdown",
   "metadata": {},
   "source": []
  }
 ],
 "metadata": {
  "kernelspec": {
   "display_name": "Python 3",
   "language": "python",
   "name": "python3"
  },
  "language_info": {
   "codemirror_mode": {
    "name": "ipython",
    "version": 3
   },
   "file_extension": ".py",
   "mimetype": "text/x-python",
   "name": "python",
   "nbconvert_exporter": "python",
   "pygments_lexer": "ipython3",
   "version": "3.12.5"
  }
 },
 "nbformat": 4,
 "nbformat_minor": 2
}
